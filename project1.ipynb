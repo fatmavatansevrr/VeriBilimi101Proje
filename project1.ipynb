{
 "cells": [
  {
   "cell_type": "code",
   "execution_count": null,
   "id": "6695c93d",
   "metadata": {},
   "outputs": [],
   "source": [
    "import pandas as pd\n",
    "import numpy as np\n",
    "import pathlib\n",
    "\n",
    "# Read in data\n",
    "current_path=pathlib.Path().absolute()\n",
    "\n",
    "df_test =pd.read_csv('../input/covid19-global-forecasting-week-1/test.csv')\n",
    "df_train=pd.read_csv('../input/covid19-global-forecasting-week-1/train.csv')\n",
    "df_submission=pd.read_csv('../input/covid19-global-forecasting-week-1/submission.csv')\n",
    "\n",
    "print ('test size: ', df_test.shape)\n",
    "print ('train size: ', df_train.shape)\n",
    "print ('submission size: ', df_submission.shape)\n",
    "\n"
   ]
  },
  {
   "cell_type": "code",
   "execution_count": null,
   "id": "7b036b80",
   "metadata": {},
   "outputs": [],
   "source": [
    "# convert object to date\n",
    "df_train['Date']=pd.to_datetime(df_train['Date'])\n",
    "df_train.plot(x='Date', y='ConfirmedCases',kind='line')# pivot the data to take country as columns for later chart\n",
    "df_train_pivot=pd.pivot_table(df_train, values='ConfirmedCases', index=['Date'],\n",
    "                    columns=['Country/Region'], aggfunc=np.sum)\n",
    "df_train_pivot=df_train_pivot.reset_index()\n",
    "pd.set_option('display.max_columns', 500)\n",
    "df_train_pivot.head()"
   ]
  },
  {
   "cell_type": "code",
   "execution_count": null,
   "id": "71911365",
   "metadata": {},
   "outputs": [],
   "source": [
    "import matplotlib.pyplot as plt\n",
    "\n",
    "fig, ax = plt.subplots()  \n",
    "country_set=np.setdiff1d(df_train_pivot.columns,['Country/Region','Date']) \n",
    "\n",
    "def countryPlot(countryList):\n",
    "    for x in countryList:\n",
    "        ax.plot(df_train_pivot['Date'], df_train_pivot[x], label=x)\n",
    "\n",
    "countryPlot(country_set)\n",
    "ax.set_xlabel('Date')  \n",
    "ax.set_ylabel('Confirmed Cases Count')  \n",
    "ax.set_title(\"Confirmed Cases Country BreakDown\")  \n",
    "ax.legend(loc='center left', bbox_to_anchor=(1, 0.5),ncol=5)  "
   ]
  },
  {
   "cell_type": "code",
   "execution_count": null,
   "id": "1bb72c53",
   "metadata": {},
   "outputs": [],
   "source": [
    "df_train.groupby(['Country/Region'])['ConfirmedCases'].sum().reset_index().sort_values('ConfirmedCases', ascending=False)[:9]"
   ]
  },
  {
   "cell_type": "code",
   "execution_count": null,
   "id": "f673a2e0",
   "metadata": {},
   "outputs": [],
   "source": [
    "# if we take it from global point of view\n",
    "df_global_train=df_train[df_train['Date']<='2020-03-12'].groupby('Date')['ConfirmedCases'].sum().reset_index()\n",
    "df_global_test= df_train[df_train['Date']>='2020-03-12'].groupby('Date')['ConfirmedCases'].sum().reset_index()"
   ]
  },
  {
   "cell_type": "code",
   "execution_count": null,
   "id": "725f0965",
   "metadata": {},
   "outputs": [],
   "source": [
    "df_global_train.index=df_global_train['Date']\n",
    "df_global_test.index=df_global_test['Date']\n",
    "\n",
    "# from above 2 start dates and end dates, we can see there are overlap between trainning set and test set\n",
    "# If we take 2020-03-12 as the breaking point\n",
    "#Plotting data\n",
    "df_global_train.ConfirmedCases.plot(figsize=(15,8), title= 'Daily Ridership', fontsize=14)\n",
    "df_global_test.ConfirmedCases.plot(figsize=(15,8), title= 'Daily Ridership', fontsize=14)\n",
    "plt.show()"
   ]
  },
  {
   "cell_type": "code",
   "execution_count": null,
   "id": "cf4606fd",
   "metadata": {},
   "outputs": [],
   "source": [
    "# Method 1 - if we are taking Naive Forecast\n",
    "dd = np.asarray(df_global_train['ConfirmedCases'])\n",
    "y_hat = df_global_test.copy()\n",
    "y_hat['naive'] = dd[len(dd) - 1]\n",
    "plt.figure(figsize=(12, 8))\n",
    "plt.plot(df_global_train.index, df_global_train['ConfirmedCases'], label='Train')\n",
    "plt.plot(df_global_test.index, df_global_test['ConfirmedCases'], label='Test')\n",
    "plt.plot(y_hat.index, y_hat['naive'], label='Naive Forecast')\n",
    "plt.legend(loc='best')\n",
    "plt.title(\"Naive Forecast\")\n",
    "plt.show()"
   ]
  },
  {
   "cell_type": "code",
   "execution_count": null,
   "id": "6d649745",
   "metadata": {},
   "outputs": [],
   "source": [
    "# From the above chart we already can tell Naive Forecast doesn't fit into this Covid-19\n",
    "# But we want to measure how poor this model is by using RMS\n",
    "from sklearn.metrics import mean_squared_error\n",
    "from math import sqrt\n",
    " \n",
    "rms = sqrt(mean_squared_error(df_global_test['ConfirmedCases'], y_hat['naive']))\n",
    "print(rms)"
   ]
  },
  {
   "cell_type": "code",
   "execution_count": null,
   "id": "e9a02a62",
   "metadata": {},
   "outputs": [],
   "source": [
    "# Method 2 - ARIMA\n",
    "import statsmodels.api as sm\n",
    " \n",
    "y_hat_avg = df_global_test.copy()\n",
    "fit1 = sm.tsa.statespace.SARIMAX(df_global_train.ConfirmedCases, order=(2, 1, 4), seasonal_order=(0, 1, 1, 7)).fit()\n",
    "y_hat_avg['SARIMA'] = fit1.predict(start=min(df_global_test['Date']), end=max(df_global_test['Date']), dynamic=True)\n",
    "plt.figure(figsize=(16, 8))\n",
    "plt.plot(df_global_train['ConfirmedCases'], label='Train')\n",
    "plt.plot(df_global_test['ConfirmedCases'], label='Test')\n",
    "plt.plot(y_hat_avg['SARIMA'], label='SARIMA')\n",
    "plt.legend(loc='best')\n",
    "plt.show()"
   ]
  },
  {
   "cell_type": "code",
   "execution_count": null,
   "id": "b2d4d787",
   "metadata": {},
   "outputs": [],
   "source": [
    "# From the above chart we already can tell ARIMA doesn't fit into this Covid-19\n",
    "# But we want to measure how poor this model is by using RMS\n",
    "from sklearn.metrics import mean_squared_error\n",
    "from math import sqrt\n",
    " \n",
    "rms = sqrt(mean_squared_error(df_global_test['ConfirmedCases'], y_hat_avg['SARIMA']))\n",
    "print(rms)"
   ]
  }
 ],
 "metadata": {
  "kernelspec": {
   "display_name": "Python 3 (ipykernel)",
   "language": "python",
   "name": "python3"
  },
  "language_info": {
   "codemirror_mode": {
    "name": "ipython",
    "version": 3
   },
   "file_extension": ".py",
   "mimetype": "text/x-python",
   "name": "python",
   "nbconvert_exporter": "python",
   "pygments_lexer": "ipython3",
   "version": "3.9.12"
  }
 },
 "nbformat": 4,
 "nbformat_minor": 5
}
