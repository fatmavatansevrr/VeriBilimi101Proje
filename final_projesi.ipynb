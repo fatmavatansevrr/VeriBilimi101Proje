{
 "cells": [
  {
   "cell_type": "code",
   "execution_count": 4,
   "id": "70ea9a91",
   "metadata": {},
   "outputs": [],
   "source": [
    "import numpy as np\n",
    "import pandas as pd\n",
    "import matplotlib.pyplot as plt\n",
    "import seaborn as sns\n",
    "\n",
    "from sklearn.model_selection import train_test_split\n",
    "from sklearn.preprocessing import StandardScaler\n",
    "from sklearn.metrics import confusion_matrix, accuracy_score\n",
    "from sklearn.metrics import classification_report\n",
    "from pandas.api.types import is_numeric_dtype, is_string_dtype\n",
    "from sklearn.ensemble import RandomForestRegressor, RandomForestClassifier\n",
    "from sklearn.linear_model import LogisticRegression\n",
    "from sklearn import preprocessing\n",
    "from sklearn import utils\n",
    "import math\n",
    "\n",
    "from IPython.display import display"
   ]
  },
  {
   "cell_type": "code",
   "execution_count": null,
   "id": "477494ad",
   "metadata": {},
   "outputs": [],
   "source": []
  },
  {
   "cell_type": "markdown",
   "id": "bb61af67",
   "metadata": {},
   "source": [
    "#### Kullanacağınız veriyi indirip, okumak"
   ]
  },
  {
   "cell_type": "code",
   "execution_count": 5,
   "id": "2258f43d",
   "metadata": {},
   "outputs": [
    {
     "data": {
      "text/html": [
       "<div>\n",
       "<style scoped>\n",
       "    .dataframe tbody tr th:only-of-type {\n",
       "        vertical-align: middle;\n",
       "    }\n",
       "\n",
       "    .dataframe tbody tr th {\n",
       "        vertical-align: top;\n",
       "    }\n",
       "\n",
       "    .dataframe thead th {\n",
       "        text-align: right;\n",
       "    }\n",
       "</style>\n",
       "<table border=\"1\" class=\"dataframe\">\n",
       "  <thead>\n",
       "    <tr style=\"text-align: right;\">\n",
       "      <th></th>\n",
       "      <th>date</th>\n",
       "      <th>precipitation</th>\n",
       "      <th>temp_max</th>\n",
       "      <th>temp_min</th>\n",
       "      <th>wind</th>\n",
       "      <th>weather</th>\n",
       "    </tr>\n",
       "  </thead>\n",
       "  <tbody>\n",
       "    <tr>\n",
       "      <th>0</th>\n",
       "      <td>2012-01-01</td>\n",
       "      <td>0.0</td>\n",
       "      <td>12.8</td>\n",
       "      <td>5.0</td>\n",
       "      <td>4.7</td>\n",
       "      <td>drizzle</td>\n",
       "    </tr>\n",
       "    <tr>\n",
       "      <th>1</th>\n",
       "      <td>2012-01-02</td>\n",
       "      <td>10.9</td>\n",
       "      <td>10.6</td>\n",
       "      <td>2.8</td>\n",
       "      <td>4.5</td>\n",
       "      <td>rain</td>\n",
       "    </tr>\n",
       "    <tr>\n",
       "      <th>2</th>\n",
       "      <td>2012-01-03</td>\n",
       "      <td>0.8</td>\n",
       "      <td>11.7</td>\n",
       "      <td>7.2</td>\n",
       "      <td>2.3</td>\n",
       "      <td>rain</td>\n",
       "    </tr>\n",
       "    <tr>\n",
       "      <th>3</th>\n",
       "      <td>2012-01-04</td>\n",
       "      <td>20.3</td>\n",
       "      <td>12.2</td>\n",
       "      <td>5.6</td>\n",
       "      <td>4.7</td>\n",
       "      <td>rain</td>\n",
       "    </tr>\n",
       "    <tr>\n",
       "      <th>4</th>\n",
       "      <td>2012-01-05</td>\n",
       "      <td>1.3</td>\n",
       "      <td>8.9</td>\n",
       "      <td>2.8</td>\n",
       "      <td>6.1</td>\n",
       "      <td>rain</td>\n",
       "    </tr>\n",
       "  </tbody>\n",
       "</table>\n",
       "</div>"
      ],
      "text/plain": [
       "         date  precipitation  temp_max  temp_min  wind  weather\n",
       "0  2012-01-01            0.0      12.8       5.0   4.7  drizzle\n",
       "1  2012-01-02           10.9      10.6       2.8   4.5     rain\n",
       "2  2012-01-03            0.8      11.7       7.2   2.3     rain\n",
       "3  2012-01-04           20.3      12.2       5.6   4.7     rain\n",
       "4  2012-01-05            1.3       8.9       2.8   6.1     rain"
      ]
     },
     "execution_count": 5,
     "metadata": {},
     "output_type": "execute_result"
    }
   ],
   "source": [
    "#reading csv file\n",
    "df = pd.read_csv('seattle-weather.csv', low_memory = False)\n",
    "df.head()"
   ]
  },
  {
   "cell_type": "code",
   "execution_count": 6,
   "id": "fa2520e9",
   "metadata": {},
   "outputs": [
    {
     "data": {
      "text/plain": [
       "date             0\n",
       "precipitation    0\n",
       "temp_max         2\n",
       "temp_min         0\n",
       "wind             0\n",
       "weather          0\n",
       "dtype: int64"
      ]
     },
     "execution_count": 6,
     "metadata": {},
     "output_type": "execute_result"
    }
   ],
   "source": [
    "df.isnull().sum()"
   ]
  },
  {
   "cell_type": "code",
   "execution_count": 7,
   "id": "059bd1c1",
   "metadata": {},
   "outputs": [
    {
     "name": "stdout",
     "output_type": "stream",
     "text": [
      "<class 'pandas.core.frame.DataFrame'>\n",
      "RangeIndex: 1461 entries, 0 to 1460\n",
      "Data columns (total 6 columns):\n",
      " #   Column         Non-Null Count  Dtype  \n",
      "---  ------         --------------  -----  \n",
      " 0   date           1461 non-null   object \n",
      " 1   precipitation  1461 non-null   float64\n",
      " 2   temp_max       1459 non-null   float64\n",
      " 3   temp_min       1461 non-null   float64\n",
      " 4   wind           1461 non-null   float64\n",
      " 5   weather        1461 non-null   object \n",
      "dtypes: float64(4), object(2)\n",
      "memory usage: 68.6+ KB\n"
     ]
    }
   ],
   "source": [
    "df.info()"
   ]
  },
  {
   "cell_type": "code",
   "execution_count": 8,
   "id": "7fba7b5b",
   "metadata": {},
   "outputs": [],
   "source": [
    "df['date'] = pd.to_datetime(df['date'])"
   ]
  },
  {
   "cell_type": "markdown",
   "id": "bf504464",
   "metadata": {},
   "source": []
  },
  {
   "cell_type": "markdown",
   "id": "f1d9db3f",
   "metadata": {},
   "source": [
    "#### Verinizin içindeki eksik ve kategorik değişkenler ile ilgilenip modele besleyeceğimiz hale getirmek"
   ]
  },
  {
   "cell_type": "code",
   "execution_count": 22,
   "id": "05dadabb",
   "metadata": {},
   "outputs": [],
   "source": [
    "def fix_missing(df,col,name):\n",
    " \n",
    "        if is_numeric_dtype(col):\n",
    "            if pd.isnull(col).sum:\n",
    "                df[name] = col.fillna(col.median())\n",
    "   \n",
    "     "
   ]
  },
  {
   "cell_type": "code",
   "execution_count": 23,
   "id": "cce306e5",
   "metadata": {},
   "outputs": [],
   "source": [
    "\n",
    "def numericalize(df,col,name):\n",
    "    classes={\n",
    "        'drizzle':0,\n",
    "        'fog':1,\n",
    "        'rain':2,\n",
    "        'snow':3,\n",
    "        'sun':4\n",
    "}\n",
    "    if not is_numeric_dtype(col):\n",
    "        df[name]=df[name].astype('category')\n",
    "        df[name]=df[name].cat.codes\n",
    "        \n",
    "        "
   ]
  },
  {
   "cell_type": "code",
   "execution_count": 24,
   "id": "6774766f",
   "metadata": {},
   "outputs": [],
   "source": [
    "def total(df):\n",
    "    for n,c in df.items():\n",
    "        fix_missing(df,c,n)\n",
    "        numericalize(df,c,n)\n",
    "    return df"
   ]
  },
  {
   "cell_type": "code",
   "execution_count": 30,
   "id": "5edb9d48",
   "metadata": {},
   "outputs": [],
   "source": [
    "x = df.drop('weather',axis=1)\n",
    "y = df['weather']"
   ]
  },
  {
   "cell_type": "code",
   "execution_count": 31,
   "id": "00187896",
   "metadata": {},
   "outputs": [],
   "source": [
    "x_train, x_test, y_train, y_test = train_test_split(x, y, test_size = 0.25, random_state =42)"
   ]
  },
  {
   "cell_type": "code",
   "execution_count": 32,
   "id": "ab21be67",
   "metadata": {},
   "outputs": [
    {
     "name": "stdout",
     "output_type": "stream",
     "text": [
      "****************************************\n",
      "Shape of x training data :  (1095, 7)\n",
      "Shape of y training data :  (1095,)\n",
      "****************************************\n",
      "Shape of x testing data :  (366, 7)\n",
      "Shape of y testing data :  (366,)\n",
      "****************************************\n"
     ]
    }
   ],
   "source": [
    "print(\"*\"*40)\n",
    "print(\"Shape of x training data : \",x_train.shape)\n",
    "print(\"Shape of y training data : \",y_train.shape)\n",
    "print(\"*\"*40)\n",
    "print(\"Shape of x testing data : \",x_test.shape)\n",
    "print(\"Shape of y testing data : \",y_test.shape)\n",
    "print(\"*\"*40)"
   ]
  },
  {
   "cell_type": "code",
   "execution_count": 33,
   "id": "175f27d1",
   "metadata": {},
   "outputs": [],
   "source": [
    "sc = StandardScaler()\n",
    "x_train = sc.fit_transform(x_train)\n",
    "x_test = sc.transform(x_test)"
   ]
  },
  {
   "cell_type": "markdown",
   "id": "9c0b4044",
   "metadata": {},
   "source": [
    "### Model Denemeleri:"
   ]
  },
  {
   "cell_type": "code",
   "execution_count": 49,
   "id": "2bb1620d",
   "metadata": {},
   "outputs": [
    {
     "data": {
      "text/plain": [
       "RandomForestClassifier(criterion='entropy', n_estimators=10, random_state=0)"
      ]
     },
     "execution_count": 49,
     "metadata": {},
     "output_type": "execute_result"
    }
   ],
   "source": [
    "#model1\n",
    "from sklearn.ensemble import RandomForestClassifier\n",
    "classifier_rfc=RandomForestClassifier(n_estimators=10, criterion='entropy', random_state=0)\n",
    "classifier_rfc.fit(x_train, y_train,sample_weight=None)"
   ]
  },
  {
   "cell_type": "code",
   "execution_count": 50,
   "id": "346d25fc",
   "metadata": {},
   "outputs": [
    {
     "data": {
      "text/plain": [
       "LogisticRegression(random_state=0)"
      ]
     },
     "execution_count": 50,
     "metadata": {},
     "output_type": "execute_result"
    }
   ],
   "source": [
    "# model2\n",
    "from sklearn.linear_model import LogisticRegression\n",
    "classifier_log=LogisticRegression(random_state=0)\n",
    "classifier_log.fit(x_train,y_train)"
   ]
  },
  {
   "cell_type": "code",
   "execution_count": 51,
   "id": "ef9f57e6",
   "metadata": {},
   "outputs": [
    {
     "data": {
      "text/plain": [
       "KNeighborsClassifier()"
      ]
     },
     "execution_count": 51,
     "metadata": {},
     "output_type": "execute_result"
    }
   ],
   "source": [
    "# model3\n",
    "from sklearn.neighbors import KNeighborsClassifier\n",
    "classifier_knn=KNeighborsClassifier(n_neighbors = 5)\n",
    "classifier_knn.fit(x_train,y_train)"
   ]
  },
  {
   "cell_type": "code",
   "execution_count": 52,
   "id": "962b875c",
   "metadata": {},
   "outputs": [
    {
     "data": {
      "text/plain": [
       "SVC(kernel='linear', random_state=42)"
      ]
     },
     "execution_count": 52,
     "metadata": {},
     "output_type": "execute_result"
    }
   ],
   "source": [
    "# model 4\n",
    "from sklearn.svm import SVC\n",
    "classifier_svc=SVC(kernel = 'linear', random_state=42)\n",
    "classifier_svc.fit(x_train, y_train)"
   ]
  },
  {
   "cell_type": "code",
   "execution_count": 53,
   "id": "73ba0538",
   "metadata": {},
   "outputs": [
    {
     "data": {
      "text/plain": [
       "DecisionTreeClassifier(criterion='entropy', random_state=0)"
      ]
     },
     "execution_count": 53,
     "metadata": {},
     "output_type": "execute_result"
    }
   ],
   "source": [
    "# model 5\n",
    "from sklearn.tree import DecisionTreeClassifier\n",
    "classifier_dtc = DecisionTreeClassifier(criterion='entropy',random_state=0)\n",
    "classifier_dtc.fit(x_train, y_train,sample_weight=None)"
   ]
  },
  {
   "cell_type": "code",
   "execution_count": 54,
   "id": "2b991332",
   "metadata": {},
   "outputs": [],
   "source": [
    "classifier_list=[classifier_log,classifier_knn,classifier_svc,classifier_dtc,classifier_rfc]"
   ]
  },
  {
   "cell_type": "code",
   "execution_count": 55,
   "id": "5a76933e",
   "metadata": {},
   "outputs": [],
   "source": [
    "def accuracy(X_test, Y_test, classifier):\n",
    "    print(f\"\\nclassifier\\n{classifier}\")\n",
    "    Y_pred=classifier.predict(X_test)\n",
    "    correct=0\n",
    "    total=len(Y_pred)\n",
    "    for i,j in zip(Y_pred, Y_test):\n",
    "        if i==j:\n",
    "            correct+=1\n",
    "    acc=(correct/total)*100\n",
    "    print(\"\\n\"+str(acc)+\"\\n\"+\"-\"*30+\"\\n\")\n",
    "    print(\"\\n\"+\"*\"*50+\"\\n\"+classification_report(Y_test,Y_pred)+\"\\n\")\n",
    "    cm=confusion_matrix(Y_test,Y_pred)\n",
    "    print(f\"Confusion Matrix\\n{cm}\\n\")\n",
    "    return acc"
   ]
  },
  {
   "cell_type": "code",
   "execution_count": 56,
   "id": "9504c7f0",
   "metadata": {},
   "outputs": [],
   "source": [
    "accuracy_list=[]\n",
    "classifier_list_str=[]"
   ]
  },
  {
   "cell_type": "code",
   "execution_count": 59,
   "id": "b51ac6cc",
   "metadata": {},
   "outputs": [
    {
     "name": "stdout",
     "output_type": "stream",
     "text": [
      "\n",
      "classifier\n",
      "LogisticRegression(random_state=0)\n",
      "\n",
      "79.23497267759562\n",
      "------------------------------\n",
      "\n",
      "\n",
      "**************************************************\n",
      "              precision    recall  f1-score   support\n",
      "\n",
      "           0       0.00      0.00      0.00        11\n",
      "           1       1.00      0.03      0.06        30\n",
      "           2       0.89      0.86      0.87       161\n",
      "           3       1.00      0.12      0.22         8\n",
      "           4       0.72      0.96      0.82       156\n",
      "\n",
      "    accuracy                           0.79       366\n",
      "   macro avg       0.72      0.40      0.40       366\n",
      "weighted avg       0.80      0.79      0.74       366\n",
      "\n",
      "\n",
      "Confusion Matrix\n",
      "[[  0   0   2   0   9]\n",
      " [  0   1   2   0  27]\n",
      " [  0   0 139   0  22]\n",
      " [  0   0   7   1   0]\n",
      " [  0   0   7   0 149]]\n",
      "\n",
      "\n",
      "classifier\n",
      "KNeighborsClassifier()\n",
      "\n",
      "72.95081967213115\n",
      "------------------------------\n",
      "\n",
      "\n",
      "**************************************************\n",
      "              precision    recall  f1-score   support\n",
      "\n",
      "           0       0.44      0.36      0.40        11\n",
      "           1       0.79      0.37      0.50        30\n",
      "           2       0.76      0.80      0.78       161\n",
      "           3       1.00      0.12      0.22         8\n",
      "           4       0.71      0.79      0.75       156\n",
      "\n",
      "    accuracy                           0.73       366\n",
      "   macro avg       0.74      0.49      0.53       366\n",
      "weighted avg       0.74      0.73      0.72       366\n",
      "\n",
      "\n",
      "Confusion Matrix\n",
      "[[  4   0   3   0   4]\n",
      " [  0  11   3   0  16]\n",
      " [  1   2 128   0  30]\n",
      " [  0   0   6   1   1]\n",
      " [  4   1  28   0 123]]\n",
      "\n",
      "\n",
      "classifier\n",
      "SVC(kernel='linear', random_state=42)\n",
      "\n",
      "77.8688524590164\n",
      "------------------------------\n",
      "\n",
      "\n",
      "**************************************************\n",
      "              precision    recall  f1-score   support\n",
      "\n",
      "           0       0.00      0.00      0.00        11\n",
      "           1       0.00      0.00      0.00        30\n",
      "           2       0.95      0.80      0.87       161\n",
      "           3       0.00      0.00      0.00         8\n",
      "           4       0.68      1.00      0.81       156\n",
      "\n",
      "    accuracy                           0.78       366\n",
      "   macro avg       0.33      0.36      0.34       366\n",
      "weighted avg       0.71      0.78      0.73       366\n",
      "\n",
      "\n",
      "Confusion Matrix\n",
      "[[  0   0   0   0  11]\n",
      " [  0   0   0   0  30]\n",
      " [  0   0 129   1  31]\n",
      " [  0   0   7   0   1]\n",
      " [  0   0   0   0 156]]\n",
      "\n",
      "\n",
      "classifier\n",
      "DecisionTreeClassifier(criterion='entropy', random_state=0)\n",
      "\n",
      "82.78688524590164\n",
      "------------------------------\n",
      "\n",
      "\n",
      "**************************************************\n",
      "              precision    recall  f1-score   support\n",
      "\n",
      "           0       0.25      0.27      0.26        11\n",
      "           1       0.52      0.47      0.49        30\n",
      "           2       0.93      0.94      0.94       161\n",
      "           3       0.40      0.25      0.31         8\n",
      "           4       0.84      0.85      0.84       156\n",
      "\n",
      "    accuracy                           0.83       366\n",
      "   macro avg       0.59      0.56      0.57       366\n",
      "weighted avg       0.82      0.83      0.82       366\n",
      "\n",
      "\n",
      "Confusion Matrix\n",
      "[[  3   0   1   0   7]\n",
      " [  1  14   1   0  14]\n",
      " [  1   0 152   3   5]\n",
      " [  0   0   6   2   0]\n",
      " [  7  13   4   0 132]]\n",
      "\n",
      "\n",
      "classifier\n",
      "RandomForestClassifier(criterion='entropy', n_estimators=10, random_state=0)\n",
      "\n",
      "84.42622950819673\n",
      "------------------------------\n",
      "\n",
      "\n",
      "**************************************************\n",
      "              precision    recall  f1-score   support\n",
      "\n",
      "           0       0.20      0.18      0.19        11\n",
      "           1       0.71      0.33      0.45        30\n",
      "           2       0.93      0.96      0.94       161\n",
      "           3       0.75      0.38      0.50         8\n",
      "           4       0.81      0.90      0.85       156\n",
      "\n",
      "    accuracy                           0.84       366\n",
      "   macro avg       0.68      0.55      0.59       366\n",
      "weighted avg       0.84      0.84      0.83       366\n",
      "\n",
      "\n",
      "Confusion Matrix\n",
      "[[  2   0   2   0   7]\n",
      " [  1  10   0   0  19]\n",
      " [  0   0 154   1   6]\n",
      " [  0   0   5   3   0]\n",
      " [  7   4   5   0 140]]\n",
      "\n"
     ]
    },
    {
     "name": "stderr",
     "output_type": "stream",
     "text": [
      "C:\\Users\\vatan\\anaconda3\\lib\\site-packages\\sklearn\\metrics\\_classification.py:1318: UndefinedMetricWarning: Precision and F-score are ill-defined and being set to 0.0 in labels with no predicted samples. Use `zero_division` parameter to control this behavior.\n",
      "  _warn_prf(average, modifier, msg_start, len(result))\n",
      "C:\\Users\\vatan\\anaconda3\\lib\\site-packages\\sklearn\\metrics\\_classification.py:1318: UndefinedMetricWarning: Precision and F-score are ill-defined and being set to 0.0 in labels with no predicted samples. Use `zero_division` parameter to control this behavior.\n",
      "  _warn_prf(average, modifier, msg_start, len(result))\n",
      "C:\\Users\\vatan\\anaconda3\\lib\\site-packages\\sklearn\\metrics\\_classification.py:1318: UndefinedMetricWarning: Precision and F-score are ill-defined and being set to 0.0 in labels with no predicted samples. Use `zero_division` parameter to control this behavior.\n",
      "  _warn_prf(average, modifier, msg_start, len(result))\n",
      "C:\\Users\\vatan\\anaconda3\\lib\\site-packages\\sklearn\\metrics\\_classification.py:1318: UndefinedMetricWarning: Precision and F-score are ill-defined and being set to 0.0 in labels with no predicted samples. Use `zero_division` parameter to control this behavior.\n",
      "  _warn_prf(average, modifier, msg_start, len(result))\n",
      "C:\\Users\\vatan\\anaconda3\\lib\\site-packages\\sklearn\\metrics\\_classification.py:1318: UndefinedMetricWarning: Precision and F-score are ill-defined and being set to 0.0 in labels with no predicted samples. Use `zero_division` parameter to control this behavior.\n",
      "  _warn_prf(average, modifier, msg_start, len(result))\n",
      "C:\\Users\\vatan\\anaconda3\\lib\\site-packages\\sklearn\\metrics\\_classification.py:1318: UndefinedMetricWarning: Precision and F-score are ill-defined and being set to 0.0 in labels with no predicted samples. Use `zero_division` parameter to control this behavior.\n",
      "  _warn_prf(average, modifier, msg_start, len(result))\n"
     ]
    }
   ],
   "source": [
    "for clf in classifier_list:\n",
    "    acc=accuracy(x_test, y_test, clf)\n",
    "    accuracy_list.append(acc)\n",
    "    classifier_list_str.append(str(clf)[:6])    "
   ]
  },
  {
   "cell_type": "code",
   "execution_count": 58,
   "id": "dc9593b9",
   "metadata": {},
   "outputs": [
    {
     "data": {
      "image/png": "[encoded data removed]",
      "text/plain": [
       "<Figure size 1584x576 with 1 Axes>"
      ]
     },
     "metadata": {
      "needs_background": "light"
     },
     "output_type": "display_data"
    }
   ],
   "source": [
    "plt.figure(figsize=(22,8))\n",
    "ax = sns.barplot(x=classifier_list_str, y=accuracy_list, saturation =1.5)\n",
    "plt.xlabel(\"Classification Models\", fontsize = 20 )\n",
    "plt.ylabel(\"Accuracy\", fontsize = 20)\n",
    "plt.title(\"Accuracy of different Classification Models\", fontsize = 20)\n",
    "plt.xticks(fontsize = 11, horizontalalignment = 'center', rotation = 8)\n",
    "plt.yticks(fontsize = 13)\n",
    "for p in ax.patches:\n",
    "    width, height = p.get_width(), p.get_height()\n",
    "    x, y = p.get_xy() \n",
    "    ax.annotate(f'{height/100:.2%}', (x + width/2, y + height*1.02), ha='center', fontsize = 'x-large')\n",
    "plt.show()"
   ]
  },
  {
   "cell_type": "code",
   "execution_count": null,
   "id": "4ecae1c7",
   "metadata": {},
   "outputs": [],
   "source": [
    "\n"
   ]
  },
  {
   "cell_type": "code",
   "execution_count": null,
   "id": "013a4754",
   "metadata": {},
   "outputs": [],
   "source": []
  },
  {
   "cell_type": "code",
   "execution_count": null,
   "id": "ab27b6ce",
   "metadata": {},
   "outputs": [],
   "source": []
  },
  {
   "cell_type": "code",
   "execution_count": null,
   "id": "2a30c77c",
   "metadata": {},
   "outputs": [],
   "source": []
  },
  {
   "cell_type": "code",
   "execution_count": null,
   "id": "f40bc1a7",
   "metadata": {},
   "outputs": [],
   "source": []
  }
 ],
 "metadata": {
  "kernelspec": {
   "display_name": "Python 3 (ipykernel)",
   "language": "python",
   "name": "python3"
  },
  "language_info": {
   "codemirror_mode": {
    "name": "ipython",
    "version": 3
   },
   "file_extension": ".py",
   "mimetype": "text/x-python",
   "name": "python",
   "nbconvert_exporter": "python",
   "pygments_lexer": "ipython3",
   "version": "3.9.12"
  }
 },
 "nbformat": 4,
 "nbformat_minor": 5
}
